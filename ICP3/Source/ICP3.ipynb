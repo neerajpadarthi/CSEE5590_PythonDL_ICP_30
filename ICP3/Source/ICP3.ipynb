{
 "cells": [
  {
   "cell_type": "code",
   "execution_count": 79,
   "metadata": {},
   "outputs": [],
   "source": [
    "class Employee:\n",
    "    c=0\n",
    "    get_sum=0\n",
    "    \n",
    "    def __init__(self,name,fam,sal,dept):\n",
    "        self.name=name\n",
    "        self.fam=fam\n",
    "        self.sal=sal\n",
    "        self.dept=dept\n",
    "        Employee.c=Employee.c+1\n",
    "        Employee.get_sum=Employee.get_sum+sal\n",
    "        \n",
    "    def display(self):\n",
    "        print(\"boss name is\",self.name)\n",
    "        \n",
    "    def avg_sal(self):\n",
    "        return(Employee.get_sum/Employee.c)"
   ]
  },
  {
   "cell_type": "code",
   "execution_count": 80,
   "metadata": {},
   "outputs": [
    {
     "name": "stdout",
     "output_type": "stream",
     "text": [
      "boss name is teju\n",
      "boss name is aunty\n"
     ]
    }
   ],
   "source": [
    "class full_time_employee(Employee):\n",
    "    q1=Employee('teju','7',100,'cs')\n",
    "    q2=Employee('aunty','1',99,'EE')\n",
    "    q1.display()\n",
    "    q2.display()\n",
    "    # q=Employee()\n",
    "    # q.avg_sal()"
   ]
  },
  {
   "cell_type": "code",
   "execution_count": 81,
   "metadata": {},
   "outputs": [
    {
     "name": "stdout",
     "output_type": "stream",
     "text": [
      "Sal is 149.66666666666666\n",
      "Number of employee 3\n"
     ]
    }
   ],
   "source": [
    "qf=full_time_employee('Neeraj','P',250,'MS')\n",
    "print(\"Sal is\",qf.avg_sal())\n",
    "print(\"Number of employee\",qf.c)"
   ]
  },
  {
   "cell_type": "code",
   "execution_count": null,
   "metadata": {},
   "outputs": [],
   "source": []
  },
  {
   "cell_type": "code",
   "execution_count": null,
   "metadata": {},
   "outputs": [],
   "source": []
  },
  {
   "cell_type": "code",
   "execution_count": null,
   "metadata": {},
   "outputs": [],
   "source": []
  },
  {
   "cell_type": "code",
   "execution_count": 157,
   "metadata": {},
   "outputs": [
    {
     "name": "stdout",
     "output_type": "stream",
     "text": [
      "Keyword to search: deep_learning\n",
      "enter the search result: 7\n",
      "Title :Deep learning\n",
      "Link :https://en.wikipedia.org/wiki/Deep_learning\n",
      "Title :Deeper learning\n",
      "Link :https://en.wikipedia.org/wiki/Deeper_learning\n",
      "Title :Comparison of deep-learning software\n",
      "Link :https://en.wikipedia.org/wiki/Comparison_of_deep-learning_software\n",
      "Title :Deep reinforcement learning\n",
      "Link :https://en.wikipedia.org/wiki/Deep_reinforcement_learning\n",
      "Title :Q-learning\n",
      "Link :https://en.wikipedia.org/wiki/Q-learning\n",
      "Title :Artificial neural network\n",
      "Link :https://en.wikipedia.org/wiki/Artificial_neural_network\n",
      "Title :Nervana Systems\n",
      "Link :https://en.wikipedia.org/wiki/Nervana_Systems\n"
     ]
    }
   ],
   "source": [
    "from bs4 import BeautifulSoup\n",
    "import pandas as pd\n",
    "import urllib.request\n",
    "import os\n",
    "\n",
    "link_list=[]\n",
    "title_list=[]\n",
    "title=\"\"\n",
    "links=\"\"\n",
    "def search_wiki(search, search_result):\n",
    "\n",
    "    url = \"https://en.wikipedia.org/w/index.php?limit=\"+search_result+\"&offset=0&search=\"+search\n",
    "    source_code = urllib.request.urlopen(url)\n",
    "    plain_text = source_code\n",
    "    soup = BeautifulSoup(plain_text, \"html.parser\")\n",
    "    result_list = soup.find_all('div', {'class': \"mw-search-result-heading\"})\n",
    "\n",
    "    for div in result_list:\n",
    "        title_all = div.find('a')\n",
    "        title = title_all.get('title')\n",
    "        links = \"https://en.wikipedia.org\" + title_all.get('href')\n",
    "        print(\"Title :\" + title)\n",
    "        print(\"Link :\" + links)\n",
    "        link_list.append(str(links))\n",
    "        title_list.append(str(title))\n",
    "    \n",
    "search = input('Keyword to search: ')\n",
    "limit = input('enter the search result: ')\n",
    "\n",
    "search_wiki(search, limit)"
   ]
  },
  {
   "cell_type": "code",
   "execution_count": 159,
   "metadata": {},
   "outputs": [
    {
     "data": {
      "text/html": [
       "<div>\n",
       "<style scoped>\n",
       "    .dataframe tbody tr th:only-of-type {\n",
       "        vertical-align: middle;\n",
       "    }\n",
       "\n",
       "    .dataframe tbody tr th {\n",
       "        vertical-align: top;\n",
       "    }\n",
       "\n",
       "    .dataframe thead th {\n",
       "        text-align: right;\n",
       "    }\n",
       "</style>\n",
       "<table border=\"1\" class=\"dataframe\">\n",
       "  <thead>\n",
       "    <tr style=\"text-align: right;\">\n",
       "      <th></th>\n",
       "      <th>searched_tile</th>\n",
       "      <th>searched_url</th>\n",
       "    </tr>\n",
       "  </thead>\n",
       "  <tbody>\n",
       "    <tr>\n",
       "      <th>0</th>\n",
       "      <td>Deep learning</td>\n",
       "      <td>https://en.wikipedia.org/wiki/Deep_learning</td>\n",
       "    </tr>\n",
       "    <tr>\n",
       "      <th>1</th>\n",
       "      <td>Deeper learning</td>\n",
       "      <td>https://en.wikipedia.org/wiki/Deeper_learning</td>\n",
       "    </tr>\n",
       "    <tr>\n",
       "      <th>2</th>\n",
       "      <td>Comparison of deep-learning software</td>\n",
       "      <td>https://en.wikipedia.org/wiki/Comparison_of_de...</td>\n",
       "    </tr>\n",
       "    <tr>\n",
       "      <th>3</th>\n",
       "      <td>Deep reinforcement learning</td>\n",
       "      <td>https://en.wikipedia.org/wiki/Deep_reinforceme...</td>\n",
       "    </tr>\n",
       "    <tr>\n",
       "      <th>4</th>\n",
       "      <td>Q-learning</td>\n",
       "      <td>https://en.wikipedia.org/wiki/Q-learning</td>\n",
       "    </tr>\n",
       "    <tr>\n",
       "      <th>5</th>\n",
       "      <td>Artificial neural network</td>\n",
       "      <td>https://en.wikipedia.org/wiki/Artificial_neura...</td>\n",
       "    </tr>\n",
       "    <tr>\n",
       "      <th>6</th>\n",
       "      <td>Nervana Systems</td>\n",
       "      <td>https://en.wikipedia.org/wiki/Nervana_Systems</td>\n",
       "    </tr>\n",
       "  </tbody>\n",
       "</table>\n",
       "</div>"
      ],
      "text/plain": [
       "                          searched_tile  \\\n",
       "0                         Deep learning   \n",
       "1                       Deeper learning   \n",
       "2  Comparison of deep-learning software   \n",
       "3           Deep reinforcement learning   \n",
       "4                            Q-learning   \n",
       "5             Artificial neural network   \n",
       "6                       Nervana Systems   \n",
       "\n",
       "                                        searched_url  \n",
       "0        https://en.wikipedia.org/wiki/Deep_learning  \n",
       "1      https://en.wikipedia.org/wiki/Deeper_learning  \n",
       "2  https://en.wikipedia.org/wiki/Comparison_of_de...  \n",
       "3  https://en.wikipedia.org/wiki/Deep_reinforceme...  \n",
       "4           https://en.wikipedia.org/wiki/Q-learning  \n",
       "5  https://en.wikipedia.org/wiki/Artificial_neura...  \n",
       "6      https://en.wikipedia.org/wiki/Nervana_Systems  "
      ]
     },
     "execution_count": 159,
     "metadata": {},
     "output_type": "execute_result"
    }
   ],
   "source": [
    "zippedList =  list(zip(title_list, link_list))\n",
    "pd.DataFrame(zippedList, columns = ['searched_tile' , 'searched_url']) "
   ]
  },
  {
   "cell_type": "code",
   "execution_count": null,
   "metadata": {},
   "outputs": [],
   "source": []
  },
  {
   "cell_type": "code",
   "execution_count": 174,
   "metadata": {},
   "outputs": [
    {
     "name": "stdout",
     "output_type": "stream",
     "text": [
      "Before\n",
      "[ 2  3  2 10  4  8  1  5  2  2  7 10  9  5  4]\n",
      "*********************************************\n",
      "After\n",
      "[2 3 2 0 4 8 1 5 2 2 7 0 9 5 4]\n"
     ]
    },
    {
     "name": "stderr",
     "output_type": "stream",
     "text": [
      "/Users/neerajpadarthi/anaconda3/envs/work/lib/python3.5/site-packages/ipykernel_launcher.py:3: DeprecationWarning: This function is deprecated. Please call randint(1, 10 + 1) instead\n",
      "  This is separate from the ipykernel package so we can avoid doing imports until\n"
     ]
    }
   ],
   "source": [
    "import numpy as np\n",
    "\n",
    "num = np.random.random_integers(1,10,15)\n",
    "print(\"Before\")\n",
    "print(num)\n",
    "num[np.where(num == np.amax(num))] = 0\n",
    "print(\"*\"*45)\n",
    "print(\"After\")\n",
    "print(num)"
   ]
  },
  {
   "cell_type": "code",
   "execution_count": null,
   "metadata": {},
   "outputs": [],
   "source": []
  }
 ],
 "metadata": {
  "kernelspec": {
   "display_name": "Python 3",
   "language": "python",
   "name": "python3"
  },
  "language_info": {
   "codemirror_mode": {
    "name": "ipython",
    "version": 3
   },
   "file_extension": ".py",
   "mimetype": "text/x-python",
   "name": "python",
   "nbconvert_exporter": "python",
   "pygments_lexer": "ipython3",
   "version": "3.5.0"
  }
 },
 "nbformat": 4,
 "nbformat_minor": 2
}
