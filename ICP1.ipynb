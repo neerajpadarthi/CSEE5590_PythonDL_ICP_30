{
 "cells": [
  {
   "cell_type": "markdown",
   "metadata": {},
   "source": [
    "| Python 2| Python 3|\n",
    "|------|------|\n",
    "|print statement does not need a parenthesis  print “Hello World!”| print statement needs a parenthesis print(“Hello World!”)|\n",
    "|<> operator is used for not equal |! operator is used for not equal|\n",
    "| Integer Division always returns Integer 9/2=4| Integer Division may result in float 9/2=4.5|\n",
    "|It uses xrange and range functions | xrange function is elimated in Python3|\n",
    "|Global Namespace leakage happens |Global Namespace leakage does not happens| \n"
   ]
  },
  {
   "cell_type": "code",
   "execution_count": 17,
   "metadata": {},
   "outputs": [
    {
     "name": "stdout",
     "output_type": "stream",
     "text": [
      "enter val:salt\n",
      "enter place:2\n",
      "as\n"
     ]
    }
   ],
   "source": [
    "val=input(\"enter val:\")\n",
    "num=int(input(\"enter place:\"))\n",
    "res = val[0:-num]\n",
    "print(res[::-1])"
   ]
  },
  {
   "cell_type": "code",
   "execution_count": 37,
   "metadata": {},
   "outputs": [
    {
     "name": "stdout",
     "output_type": "stream",
     "text": [
      "enter 1st number: 6\n",
      "enter 2nd number: 3\n",
      "\n",
      "Addition is:  9\n",
      "Subtraction is:  3\n",
      "Multiplication is:  18\n",
      "Division is:  2\n",
      "Power is:  216\n"
     ]
    }
   ],
   "source": [
    "x=int(input(\"enter 1st number: \"))\n",
    "y=int(input(\"enter 2nd number: \"))\n",
    "print(\"\")\n",
    "print(\"Addition is: \",(x+y))\n",
    "print(\"Subtraction is: \",(x-y))\n",
    "print(\"Multiplication is: \",(x*y))\n",
    "print(\"Division is: \",(x//y))\n",
    "print(\"Power is: \",(x**y))"
   ]
  },
  {
   "cell_type": "code",
   "execution_count": 29,
   "metadata": {},
   "outputs": [
    {
     "name": "stdout",
     "output_type": "stream",
     "text": [
      "enter a satement: hello python how are you\n",
      "hello pythons how are you\n"
     ]
    }
   ],
   "source": [
    "sentence=str(input(\"enter a satement: \"))\n",
    "if('python' in sentence):\n",
    "    sentence=sentence.replace('python','pythons')\n",
    "else:\n",
    "    print(\"Please enter a statement with python in it\")\n",
    "print(sentence)"
   ]
  }
 ],
 "metadata": {
  "kernelspec": {
   "display_name": "Python 3",
   "language": "python",
   "name": "python3"
  },
  "language_info": {
   "codemirror_mode": {
    "name": "ipython",
    "version": 3
   },
   "file_extension": ".py",
   "mimetype": "text/x-python",
   "name": "python",
   "nbconvert_exporter": "python",
   "pygments_lexer": "ipython3",
   "version": "3.5.0"
  }
 },
 "nbformat": 4,
 "nbformat_minor": 2
}
